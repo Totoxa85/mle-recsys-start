{
 "cells": [
  {
   "cell_type": "code",
   "execution_count": null,
   "id": "d33a7ce0",
   "metadata": {},
   "outputs": [],
   "source": [
    "import logging\n",
    "import matplotlib.pyplot as plt\n",
    "import numpy as np\n",
    "import pandas as pd\n",
    "from sklearn.preprocessing import MinMaxScaler\n",
    "from sklearn.metrics import mean_squared_error, mean_absolute_error\n",
    "from surprise import Dataset, Reader\n",
    "from surprise import SVD\n",
    "from surprise import accuracy"
   ]
  },
  {
   "cell_type": "code",
   "execution_count": null,
   "id": "72242d67",
   "metadata": {},
   "outputs": [],
   "source": [
    "# Загрузка данных\n",
    "items = pd.read_parquet(\"items.par\")\n",
    "events = pd.read_parquet(\"events.par\")\n",
    "\n",
    "# Точка разбиения для тренировочного и тестового наборов\n",
    "train_test_global_time_split_date = pd.to_datetime(\"2017-08-01\").date()\n",
    "train_test_global_time_split_idx = events[\"started_at_month\"] < train_test_global_time_split_date\n",
    "events_train = events[train_test_global_time_split_idx]\n",
    "events_test = events[~train_test_global_time_split_idx]\n",
    "\n",
    "# Количество уникальных пользователей в train и test\n",
    "users_train = events_train[\"user_id\"].drop_duplicates()\n",
    "users_test = events_test[\"user_id\"].drop_duplicates()\n",
    "common_users = pd.Index(users_train).intersection(pd.Index(users_test))\n",
    "cold_users = pd.Index(users_test).difference(pd.Index(users_train))\n",
    "\n",
    "# Удаление редких айтемов (с которыми взаимодействовало менее 2 пользователей)\n",
    "item_activity = events_train.groupby('item_id')['user_id'].nunique().reset_index(name='user_count')\n",
    "items_to_keep = item_activity[item_activity['user_count'] >= 2]['item_id']\n",
    "events_train_filtered = events_train[events_train['item_id'].isin(items_to_keep)]"
   ]
  },
  {
   "cell_type": "code",
   "execution_count": null,
   "id": "2a72d19a",
   "metadata": {},
   "outputs": [],
   "source": [
    "items_to_keep.head(10)"
   ]
  },
  {
   "cell_type": "code",
   "execution_count": null,
   "id": "f327a49b",
   "metadata": {},
   "outputs": [],
   "source": [
    "events_train_filtered.head(10)"
   ]
  },
  {
   "cell_type": "code",
   "execution_count": null,
   "id": "5bf7dc6c",
   "metadata": {},
   "outputs": [],
   "source": [
    "# Получаем данные для рекомендаций\n",
    "reader = Reader(rating_scale=(1, 5))\n",
    "surprise_train_set = Dataset.load_from_df(events_train_filtered[['user_id', 'item_id', 'rating']], reader)\n",
    "surprise_train_set = surprise_train_set.build_full_trainset()"
   ]
  },
  {
   "cell_type": "code",
   "execution_count": null,
   "id": "c8a29d03",
   "metadata": {},
   "outputs": [],
   "source": [
    "# Инициализация и обучение модели SVD\n",
    "svd_model = SVD(n_factors=100, random_state=0)\n",
    "svd_model.fit(surprise_train_set)"
   ]
  },
  {
   "cell_type": "code",
   "execution_count": null,
   "id": "db14a195",
   "metadata": {},
   "outputs": [],
   "source": [
    "# Получаем предсказания для тестовой выборки\n",
    "surprise_test_set = list(events_test[['user_id', 'item_id', 'rating']].itertuples(index=False))\n",
    "svd_predictions = svd_model.test(surprise_test_set)"
   ]
  },
  {
   "cell_type": "code",
   "execution_count": null,
   "id": "cb86faa3",
   "metadata": {},
   "outputs": [],
   "source": [
    "# Оценка рекомендаций\n",
    "rmse = accuracy.rmse(svd_predictions)\n",
    "mae = accuracy.mae(svd_predictions)"
   ]
  },
  {
   "cell_type": "code",
   "execution_count": null,
   "id": "b04aaacb",
   "metadata": {},
   "outputs": [],
   "source": [
    "# Выводим результаты\n",
    "print(f\"RMSE для SVD модели после удаления редких айтемов: {rmse}\")\n",
    "print(f\"MAE для SVD модели после удаления редких айтемов: {mae}\")\n",
    "\n",
    "# Сравнение с предыдущими результатами\n",
    "# Предыдущие RMSE и MAE (из вашего исходного кода)\n",
    "previous_rmse = 1.25  # Замените на актуальное значение из вашего исходного кода\n",
    "previous_mae = 0.99  # Замените на актуальное значение из вашего исходного кода\n",
    "\n",
    "print(f\"Изменение RMSE: {rmse - previous_rmse}\")\n",
    "print(f\"Изменение MAE: {mae - previous_mae}\")"
   ]
  }
 ],
 "metadata": {
  "kernelspec": {
   "display_name": "sprint4",
   "language": "python",
   "name": "python3"
  },
  "language_info": {
   "codemirror_mode": {
    "name": "ipython",
    "version": 3
   },
   "file_extension": ".py",
   "mimetype": "text/x-python",
   "name": "python",
   "nbconvert_exporter": "python",
   "pygments_lexer": "ipython3",
   "version": "3.10.16"
  }
 },
 "nbformat": 4,
 "nbformat_minor": 5
}
